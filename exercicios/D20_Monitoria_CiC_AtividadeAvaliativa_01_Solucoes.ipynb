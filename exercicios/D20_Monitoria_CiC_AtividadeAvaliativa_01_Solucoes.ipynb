{
 "cells": [
  {
   "cell_type": "markdown",
   "metadata": {
    "id": "S4DIBYSDxGGk"
   },
   "source": [
    "## Enap - Especialização em Ciência de Dados aplicada a Políticas Públicas\n",
    "# D20 - Monitoria em Ciência da Computação\n",
    "\n",
    "## Atividade Avaliativa 01\n",
    "\n",
    "Nessa atividade, você poderá avaliar seu progresso nos conceitos e habilidades trabalhados no primeiro ciclo da disciplina, isto é, o conteúdo de todas as aulas ministradas em 2021.\n",
    "\n",
    "Para iniciar sua avaliação, execute a célula abaixo, que permitirá o registro de suas respostas no Dashboard de notas. Depois, responda às questões escrevendo uma função Python que atenda ao comando de cada questão. Note que cada questão é composta por três células: a primeira célula para sua resposta, a segunda célula para testes e a terceira para validação e registro da resposta.\n"
   ]
  },
  {
   "cell_type": "code",
   "execution_count": null,
   "metadata": {
    "id": "GFvp5L5Qw_Ca"
   },
   "outputs": [],
   "source": [
    "#@title Célula de inicialização. Por favor, execute.\n",
    "import sys, os, subprocess\n",
    "os.system('pip install virtualenv')"
   ]
  },
  {
   "cell_type": "markdown",
   "metadata": {
    "id": "-YW2g2s_1eio"
   },
   "source": [
    "### Questão 01\n",
    "\n",
    "Crie uma função que retorne o string `\"pelo menos um verdadeiro\"` quando o resultado da operação lógica de **conjunção** entre dois parâmetros for verdadeira ($x \\vee y = True$) ou o string vazio `\"\"`, quando for falsa ($x \\vee y = False$):"
   ]
  },
  {
   "cell_type": "code",
   "execution_count": null,
   "metadata": {
    "id": "QfUK-S3YW_x0"
   },
   "outputs": [],
   "source": [
    "def conjuncao(x, y):  \n",
    "  # Escreva sua resposta aqui\n",
    "  return \"pelo menos um verdadeiro\" if (x or y) else \"\"\n",
    "  "
   ]
  },
  {
   "cell_type": "code",
   "execution_count": null,
   "metadata": {
    "id": "FH2TEHO3XANz"
   },
   "outputs": [],
   "source": [
    "# Utilize esta célula para testar sua resposta\n"
   ]
  },
  {
   "cell_type": "markdown",
   "metadata": {
    "id": "Fv94_sbEXBVq"
   },
   "source": [
    "### Questão 02\n",
    "\n",
    "Crie uma função que retorne o resultado da operação lógica de **implicação** entre dois parâmetros ($x \\rightarrow y$):"
   ]
  },
  {
   "cell_type": "code",
   "execution_count": null,
   "metadata": {
    "id": "oSl3Rmtm3I-2"
   },
   "outputs": [],
   "source": [
    "def implicacao(x, y):  \n",
    "  # Escreva sua resposta aqui\n",
    "  return (not x) or y\n",
    "  "
   ]
  },
  {
   "cell_type": "code",
   "execution_count": null,
   "metadata": {
    "id": "vb5EdsGT3P3t"
   },
   "outputs": [],
   "source": [
    "# Utilize esta célula para testar sua resposta\n"
   ]
  },
  {
   "cell_type": "markdown",
   "metadata": {
    "id": "bqR8uQXv8UjS"
   },
   "source": [
    "### Questão 03\n",
    "Crie uma função que retorne o resultado da operação lógica de *exclusão* entre dois parâmetros ($x \\veebar y$)"
   ]
  },
  {
   "cell_type": "code",
   "execution_count": null,
   "metadata": {
    "id": "6kTBGYyF8VCC"
   },
   "outputs": [],
   "source": [
    "def exclusao(x, y):\n",
    "  # Escreva sua resposta aqui\n",
    "  return (not x) != (not y)\n"
   ]
  },
  {
   "cell_type": "code",
   "execution_count": null,
   "metadata": {
    "id": "hal2PDOV8VcC"
   },
   "outputs": [],
   "source": [
    "# Utilize esta célula para testar sua resposta\n"
   ]
  },
  {
   "cell_type": "markdown",
   "metadata": {
    "id": "_jDBbVLK8WWq"
   },
   "source": [
    "### Questão 04\n",
    "Crie uma função que crie um arquivo com o nome indicado no parâmetro `nome`:\n",
    "* Dica: você pode usar os métodos `os.system('cmd')` ou `subprocess.getoutput('cmd')` para executar comandos de terminal"
   ]
  },
  {
   "cell_type": "code",
   "execution_count": null,
   "metadata": {
    "id": "2bIWaFpi8W5R"
   },
   "outputs": [],
   "source": [
    "def criar_arquivo(nome):  \n",
    "  # Escreva sua resposta aqui\n",
    "  os.system(f'touch {nome}')\n"
   ]
  },
  {
   "cell_type": "code",
   "execution_count": null,
   "metadata": {
    "id": "2gZNXzY08XQp"
   },
   "outputs": [],
   "source": [
    "# Utilize esta célula para testar sua resposta\n"
   ]
  },
  {
   "cell_type": "markdown",
   "metadata": {
    "id": "vBm9x5xi8YUR"
   },
   "source": [
    "### Questão 05\n",
    "Crie uma função que crie um diretório com o nome indicado no parâmetro `nome`:"
   ]
  },
  {
   "cell_type": "code",
   "execution_count": null,
   "metadata": {
    "id": "_ONPDChu8nrB"
   },
   "outputs": [],
   "source": [
    "def criar_diretorio(nome):\n",
    "  # Escreva sua resposta aqui\n",
    "  os.system(f'mkdir {nome}')\n"
   ]
  },
  {
   "cell_type": "code",
   "execution_count": null,
   "metadata": {
    "id": "atYxbHcz8oBJ"
   },
   "outputs": [],
   "source": [
    "# Utilize esta célula para testar sua resposta\n"
   ]
  },
  {
   "cell_type": "markdown",
   "metadata": {
    "id": "mWt_8DvD8pGR"
   },
   "source": [
    "### Questão 06\n",
    "Crie uma função que crie um arquivo `nomeArquivo` dentro do diretório `nomeDiretorio`. A função deve criar o diretório, caso esse ainda não exista.\n",
    "* Dica 1: você pode usar o comando `os.chdir(path)` para mudar de diretório\n",
    "* Dica 2: você também pode executar uma composição de comandos de terminal utilizando a expressão `&&`, como em `os.system('cmd1 && cmd2')`:"
   ]
  },
  {
   "cell_type": "code",
   "execution_count": null,
   "metadata": {
    "id": "O5YV2JC28pih"
   },
   "outputs": [],
   "source": [
    "def criar_arquivo_no_diretorio(nomeArquivo, nomeDiretorio):\n",
    "  # Escreva sua resposta aqui\n",
    "  os.system(f'mkdir -p {nomeDiretorio} && touch {nomeDiretorio}/{nomeArquivo}')\n"
   ]
  },
  {
   "cell_type": "code",
   "execution_count": null,
   "metadata": {
    "id": "j4eUQCEy8p6I"
   },
   "outputs": [],
   "source": [
    "# Utilize esta célula para testar sua resposta\n"
   ]
  },
  {
   "cell_type": "markdown",
   "metadata": {
    "id": "IIMnVqzD8sZJ"
   },
   "source": [
    "### Questão 07\n",
    "Crie uma função que crie um diretório, dentro do diretório recém-criado, crie um ambiente virtual Python\n",
    "* Dica: utilize o comando de terminal `virtualenv`, conforme apresentado em aula"
   ]
  },
  {
   "cell_type": "code",
   "execution_count": null,
   "metadata": {
    "id": "tzvC_QzV8s-B"
   },
   "outputs": [],
   "source": [
    "def criar_projeto_python(nomeProjeto):\n",
    "  # Escreva sua resposta aqui\n",
    "  os.system(f'mkdir -p {nomeProjeto} && cd {nomeProjeto} && virtualenv venv')"
   ]
  },
  {
   "cell_type": "code",
   "execution_count": null,
   "metadata": {
    "id": "Xi4b7n_d8tbZ"
   },
   "outputs": [],
   "source": [
    "# Utilize esta célula para testar sua resposta\n"
   ]
  },
  {
   "cell_type": "markdown",
   "metadata": {
    "id": "oPHLcnGW8vQp"
   },
   "source": [
    "### Questão 08\n",
    "Crie uma função que crie um diretório, dentro do diretório recém-criado, inicie um repositório Git e configure um nome e e-mail para o repositório:\n",
    "* Dica: use os comandos `git init` e `git config`, conforme apresentados em aula"
   ]
  },
  {
   "cell_type": "code",
   "execution_count": null,
   "metadata": {
    "id": "B82B0T1b84lY"
   },
   "outputs": [],
   "source": [
    "def criar_repo_git(nomeRepositorio):\n",
    "  # Escreva sua resposta aqui\n",
    "  os.system(f'mkdir -p {nomeRepositorio} && cd {nomeRepositorio} && git init && git config user.name \"John Doe\" && git config user.email \"johndoe@example.com\"')\n"
   ]
  },
  {
   "cell_type": "code",
   "execution_count": null,
   "metadata": {
    "id": "gPT77UfH8434"
   },
   "outputs": [],
   "source": [
    "# Utilize esta célula para testar sua resposta\n"
   ]
  },
  {
   "cell_type": "markdown",
   "metadata": {
    "id": "li9sEgB188tA"
   },
   "source": [
    "### Questão 09\n",
    "Crie uma função que crie um arquivo `nomeArquivo` dentro do repositório `nomeRepositorio` e faça o commit do arquivo naquele repositório:\n",
    "* Observação: o repositório já foi criado no exercício anterior\n",
    "* Dica 1: não se esqueça da opção `-m \"comment\"` para adicionar a descrição do commit.\n",
    "* Dica 2: você também pode informar o autor do commit com a opção `--author=\"Bruce Wayne <bruce@wayne.com>\"`"
   ]
  },
  {
   "cell_type": "code",
   "execution_count": null,
   "metadata": {
    "id": "NI124qAZ8-sA"
   },
   "outputs": [],
   "source": [
    "def create_add_commit(nomeArquivo, nomeRepositorio):\n",
    "  # Escreva sua resposta aqui\n",
    "  os.system(f'cd {nomeRepositorio} && touch {nomeArquivo} && git add -A && git commit -am \"Coisa\"')\n"
   ]
  },
  {
   "cell_type": "code",
   "execution_count": null,
   "metadata": {
    "id": "y6Kkxgr18_GA"
   },
   "outputs": [],
   "source": [
    "# Utilize esta célula para testar sua resposta\n"
   ]
  },
  {
   "cell_type": "markdown",
   "metadata": {
    "id": "7SiP35729AhA"
   },
   "source": [
    "### Questão 10\n",
    "Crie uma função que crie o branch `nomeBranch` dentro do repositório `nomeRepositorio`:\n",
    "* Observação: o repositório já foi criado na Questão 08"
   ]
  },
  {
   "cell_type": "code",
   "execution_count": null,
   "metadata": {
    "id": "PEVhBq5o9BDi"
   },
   "outputs": [],
   "source": [
    "def create_branch(nomeBranch, nomeRepositorio):\n",
    "  # Escreva sua resposta aqui\n",
    "  os.system(f'cd {nomeRepositorio} && git branch {nomeBranch}')\n"
   ]
  },
  {
   "cell_type": "code",
   "execution_count": null,
   "metadata": {
    "id": "YCgJ66rl9Bg4"
   },
   "outputs": [],
   "source": [
    "# Utilize esta célula para testar sua resposta\n"
   ]
  }
 ],
 "metadata": {
  "colab": {
   "collapsed_sections": [],
   "name": "D20_Monitoria_CiC_AtividadeAvaliativa_01_Solucoes.ipynb",
   "provenance": []
  },
  "kernelspec": {
   "display_name": "Python 3",
   "language": "python",
   "name": "python3"
  },
  "language_info": {
   "codemirror_mode": {
    "name": "ipython",
    "version": 3
   },
   "file_extension": ".py",
   "mimetype": "text/x-python",
   "name": "python",
   "nbconvert_exporter": "python",
   "pygments_lexer": "ipython3",
   "version": "3.7.3"
  }
 },
 "nbformat": 4,
 "nbformat_minor": 1
}
