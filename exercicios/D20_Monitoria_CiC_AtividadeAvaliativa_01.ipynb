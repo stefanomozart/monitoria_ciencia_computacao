{
  "nbformat": 4,
  "nbformat_minor": 0,
  "metadata": {
    "colab": {
      "name": "D20_Monitoria_CiC_AtividadeAvaliativa_01.ipynb",
      "provenance": [],
      "collapsed_sections": []
    },
    "kernelspec": {
      "name": "python3",
      "display_name": "Python 3"
    },
    "language_info": {
      "name": "python"
    }
  },
  "cells": [
    {
      "cell_type": "markdown",
      "metadata": {
        "id": "S4DIBYSDxGGk"
      },
      "source": [
        "## Enap - Especialização em Ciência de Dados aplicada a Políticas Públicas\n",
        "# D20 - Monitoria em Ciência da Computação\n",
        "\n",
        "## Atividade Avaliativa 01\n",
        "\n",
        "Nessa atividade, você poderá avaliar seu progresso nos conceitos e habilidades trabalhados no primeiro ciclo da disciplina, isto é, o conteúdo de todas as aulas ministradas em 2021.\n",
        "\n",
        "Para iniciar sua avaliação, execute a célula abaixo, que permitirá o registro de suas respostas no Dashboard de notas. Depois, responda às questões escrevendo uma função Python que atenda ao comando de cada questão. Note que cada questão é composta por três células: a primeira célula para sua resposta, a segunda célula para testes e a terceira para validação e registro da resposta.\n"
      ]
    },
    {
      "cell_type": "code",
      "metadata": {
        "id": "GFvp5L5Qw_Ca"
      },
      "source": [
        "#@title Célula de inicialização. Por favor, execute.\n",
        "import sys, os, subprocess"
      ],
      "execution_count": null,
      "outputs": []
    },
    {
      "cell_type": "markdown",
      "metadata": {
        "id": "-YW2g2s_1eio"
      },
      "source": [
        "### Questão 01\n",
        "\n",
        "Crie uma função que retorne o string `\"pelo menos um verdadeiro\"` quando o resultado da operação lógica de **conjunção** entre dois parâmetros for verdadeira ($x \\vee y = True$) ou o string vazio `\"\"`, quando for falsa ($x \\vee y = False$):"
      ]
    },
    {
      "cell_type": "code",
      "metadata": {
        "id": "QfUK-S3YW_x0"
      },
      "source": [
        "def conjuncao(x, y):  \n",
        "  # Escreva sua resposta aqui\n",
        "  "
      ],
      "execution_count": null,
      "outputs": []
    },
    {
      "cell_type": "code",
      "metadata": {
        "id": "FH2TEHO3XANz"
      },
      "source": [
        "# Utilize esta célula para testar sua resposta\n"
      ],
      "execution_count": null,
      "outputs": []
    },
    {
      "cell_type": "markdown",
      "metadata": {
        "id": "Fv94_sbEXBVq"
      },
      "source": [
        "### Questão 02\n",
        "\n",
        "Crie uma função que retorne o resultado da operação lógica de **implicação** entre dois parâmetros ($x \\rightarrow y$):"
      ]
    },
    {
      "cell_type": "code",
      "metadata": {
        "id": "oSl3Rmtm3I-2"
      },
      "source": [
        "def implicacao(x, y):  \n",
        "  # Escreva sua resposta aqui\n",
        "  "
      ],
      "execution_count": null,
      "outputs": []
    },
    {
      "cell_type": "code",
      "metadata": {
        "id": "vb5EdsGT3P3t"
      },
      "source": [
        "# Utilize esta célula para testar sua resposta\n"
      ],
      "execution_count": null,
      "outputs": []
    },
    {
      "cell_type": "markdown",
      "metadata": {
        "id": "bqR8uQXv8UjS"
      },
      "source": [
        "### Questão 03\n",
        "Crie uma função que retorne o resultado da operação lógica de *exclusão* entre dois parâmetros ($x \\veebar y$)"
      ]
    },
    {
      "cell_type": "code",
      "metadata": {
        "id": "6kTBGYyF8VCC"
      },
      "source": [
        "def exclusao(x, y):\n",
        "  # Escreva sua resposta aqui\n"
      ],
      "execution_count": null,
      "outputs": []
    },
    {
      "cell_type": "code",
      "metadata": {
        "id": "hal2PDOV8VcC"
      },
      "source": [
        "# Utilize esta célula para testar sua resposta\n"
      ],
      "execution_count": null,
      "outputs": []
    },
    {
      "cell_type": "markdown",
      "metadata": {
        "id": "_jDBbVLK8WWq"
      },
      "source": [
        "### Questão 04\n",
        "Crie uma função que crie um arquivo com o nome indicado no parâmetro `nome`:\n",
        "* Dica: você pode usar os métodos `os.system('cmd')` ou `subprocess.getoutput('cmd')` para executar comandos de terminal"
      ]
    },
    {
      "cell_type": "code",
      "metadata": {
        "id": "2bIWaFpi8W5R"
      },
      "source": [
        "def criar_arquivo(nome):  \n",
        "  # Escreva sua resposta aqui\n"
      ],
      "execution_count": null,
      "outputs": []
    },
    {
      "cell_type": "code",
      "metadata": {
        "id": "2gZNXzY08XQp"
      },
      "source": [
        "# Utilize esta célula para testar sua resposta\n"
      ],
      "execution_count": null,
      "outputs": []
    },
    {
      "cell_type": "markdown",
      "metadata": {
        "id": "vBm9x5xi8YUR"
      },
      "source": [
        "### Questão 05\n",
        "Crie uma função que crie um diretório com o nome indicado no parâmetro `nome`:"
      ]
    },
    {
      "cell_type": "code",
      "metadata": {
        "id": "_ONPDChu8nrB"
      },
      "source": [
        "def criar_diretorio(nome):\n",
        "  # Escreva sua resposta aqui\n"
      ],
      "execution_count": null,
      "outputs": []
    },
    {
      "cell_type": "code",
      "metadata": {
        "id": "atYxbHcz8oBJ"
      },
      "source": [
        "# Utilize esta célula para testar sua resposta\n"
      ],
      "execution_count": null,
      "outputs": []
    },
    {
      "cell_type": "markdown",
      "metadata": {
        "id": "mWt_8DvD8pGR"
      },
      "source": [
        "### Questão 06\n",
        "Crie uma função que crie um arquivo `nomeArquivo` dentro do diretório `nomeDiretorio`. A função deve criar o diretório, caso esse ainda não exista.\n",
        "* Dica 1: você pode usar o comando `os.chdir(path)` para mudar de diretório\n",
        "* Dica 2: você também pode executar uma composição de comandos de terminal utilizando a expressão `&&`, como em `os.system('cmd1 && cmd2')`:"
      ]
    },
    {
      "cell_type": "code",
      "metadata": {
        "id": "O5YV2JC28pih"
      },
      "source": [
        "def criar_arquivo_no_diretorio(nomeArquivo, nomeDiretorio):\n",
        "  # Escreva sua resposta aqui\n"
      ],
      "execution_count": null,
      "outputs": []
    },
    {
      "cell_type": "code",
      "metadata": {
        "id": "j4eUQCEy8p6I"
      },
      "source": [
        "# Utilize esta célula para testar sua resposta\n"
      ],
      "execution_count": null,
      "outputs": []
    },
    {
      "cell_type": "markdown",
      "metadata": {
        "id": "IIMnVqzD8sZJ"
      },
      "source": [
        "### Questão 07\n",
        "Crie uma função que crie um diretório, dentro do diretório recém-criado, crie um ambiente virtual Python\n",
        "* Dica: utilize o comando de terminal `virtualenv`, conforme apresentado em aula"
      ]
    },
    {
      "cell_type": "code",
      "metadata": {
        "id": "tzvC_QzV8s-B"
      },
      "source": [
        "def criar_projeto_python(nomeProjeto):\n",
        "  # Escreva sua resposta aqui\n",
        "  "
      ],
      "execution_count": null,
      "outputs": []
    },
    {
      "cell_type": "code",
      "metadata": {
        "id": "Xi4b7n_d8tbZ"
      },
      "source": [
        "# Utilize esta célula para testar sua resposta\n"
      ],
      "execution_count": null,
      "outputs": []
    },
    {
      "cell_type": "markdown",
      "metadata": {
        "id": "oPHLcnGW8vQp"
      },
      "source": [
        "### Questão 08\n",
        "Crie uma função que crie um diretório, dentro do diretório recém-criado, inicie um repositório Git e configure um nome e e-mail para o repositório:\n",
        "* Dica: use os comandos `git init` e `git config`, conforme apresentados em aula"
      ]
    },
    {
      "cell_type": "code",
      "metadata": {
        "id": "B82B0T1b84lY"
      },
      "source": [
        "def criar_repo_git(nomeRepositorio):\n",
        "  # Escreva sua resposta aqui\n"
      ],
      "execution_count": null,
      "outputs": []
    },
    {
      "cell_type": "code",
      "metadata": {
        "id": "gPT77UfH8434"
      },
      "source": [
        "# Utilize esta célula para testar sua resposta\n"
      ],
      "execution_count": null,
      "outputs": []
    },
    {
      "cell_type": "markdown",
      "metadata": {
        "id": "li9sEgB188tA"
      },
      "source": [
        "### Questão 09\n",
        "Crie uma função que crie um arquivo `nomeArquivo` dentro do repositório `nomeRepositorio` e faça o commit do arquivo naquele repositório:\n",
        "* Observação: o repositório já foi criado no exercício anterior\n",
        "* Dica 1: não se esqueça da opção `-m \"comment\"` para adicionar a descrição do commit.\n",
        "* Dica 2: você também pode informar o autor do commit com a opção `--author=\"Bruce Wayne <bruce@wayne.com>\"`"
      ]
    },
    {
      "cell_type": "code",
      "metadata": {
        "id": "NI124qAZ8-sA"
      },
      "source": [
        "def create_add_commit(nomeArquivo, nomeRepositorio):\n",
        "  # Escreva sua resposta aqui\n"
      ],
      "execution_count": null,
      "outputs": []
    },
    {
      "cell_type": "code",
      "metadata": {
        "id": "y6Kkxgr18_GA"
      },
      "source": [
        "# Utilize esta célula para testar sua resposta\n"
      ],
      "execution_count": null,
      "outputs": []
    },
    {
      "cell_type": "markdown",
      "metadata": {
        "id": "7SiP35729AhA"
      },
      "source": [
        "### Questão 10\n",
        "Crie uma função que crie o branch `nomeBranch` dentro do repositório `nomeRepositorio`:\n",
        "* Observação: o repositório já foi criado na Questão 08"
      ]
    },
    {
      "cell_type": "code",
      "metadata": {
        "id": "PEVhBq5o9BDi"
      },
      "source": [
        "def create_branch(nomeBranch, nomeRepositorio):\n",
        "  # Escreva sua resposta aqui\n"
      ],
      "execution_count": null,
      "outputs": []
    },
    {
      "cell_type": "code",
      "metadata": {
        "id": "YCgJ66rl9Bg4"
      },
      "source": [
        "# Utilize esta célula para testar sua resposta\n"
      ],
      "execution_count": null,
      "outputs": []
    }
  ]
}